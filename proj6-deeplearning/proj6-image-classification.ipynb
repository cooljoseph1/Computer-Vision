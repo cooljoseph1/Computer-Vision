{
 "cells": [
  {
   "cell_type": "markdown",
   "metadata": {},
   "source": [
    "# Project 6 - Intro to Deep Learning Image Classification\n",
    "\n",
    "### What to Submit\n",
    "Submit this iPython Notebook--containing all your code for the programming exercises below--on [LearningSuite](https://learningsuite.byu.edu/).\n",
    "\n",
    "Your notebook file should produce the relevant plots and also provide a short write-up with answers to the questions below (at the end of this notebook).\n",
    "\n",
    "<span style=\"color:red\">PLEASE submit only the notebook -- no additional files.</span>\n",
    "\n",
    "Please also fill in here the time that each part took you:\n",
    "1. Part A - Dataset: <span style=\"color:red;\">3 hours</span>\n",
    "2. Part B - Neural Network Architecture: <span style=\"color:red;\">2 hours</span>\n",
    "3. Part C - Network Training: <span style=\"color:red;\">5 hours</span>\n",
    "4. Part D - Testing: <span style=\"color:red;\">3</span>\n",
    "5. Write-up: <span style=\"color:red;\">15 minutes</span>"
   ]
  },
  {
   "cell_type": "markdown",
   "metadata": {},
   "source": [
    "## Background - Image Classification\n",
    "\n",
    "For this project you will be introduced to the basics of deep learning and the PyTorch framework.  Deep learning can be very computationally expensive and runs fastest with GPU support.  If you do not have access to NVIDIA GPUs on your local machine, you can use some from Google using their [colab tool](https://colab.research.google.com).  Colab runs exactly like jupyter notebooks and you can directly upload your .ipynb file.\n",
    "\n",
    "Image classification is the task of taking an image and labeling it as a category.  Deep learning has been the leading method for image classification since it dominated the [ImageNet competition in 2012](https://papers.nips.cc/paper/4824-imagenet-classification-with-deep-convolutional-neural-networks.pdf)."
   ]
  },
  {
   "cell_type": "code",
   "execution_count": 8,
   "metadata": {},
   "outputs": [
    {
     "name": "stdout",
     "output_type": "stream",
     "text": [
      "Populating the interactive namespace from numpy and matplotlib\n"
     ]
    },
    {
     "name": "stderr",
     "output_type": "stream",
     "text": [
      "C:\\Users\\camac\\Miniconda3\\envs\\lab6\\lib\\site-packages\\IPython\\core\\magics\\pylab.py:160: UserWarning: pylab import has clobbered these variables: ['f']\n",
      "`%matplotlib` prevents importing * from pylab and numpy\n",
      "  \"\\n`%matplotlib` prevents importing * from pylab and numpy\"\n"
     ]
    }
   ],
   "source": [
    "%pylab inline\n",
    "import torch"
   ]
  },
  {
   "cell_type": "markdown",
   "metadata": {},
   "source": [
    "# Part A: Dataset\n",
    "\n",
    "![cars](cars.png)\n",
    "\n",
    "You will be performing classification on the [Stanford Cars Dataset](https://ai.stanford.edu/~jkrause/cars/car_dataset.html), which consists of 16,185 images of 196 classes of cars.  The dataset is split 50-50 into a training set and testing set.  You will want to download each one idividually from Stanford's site or use these links: [Train Set](http://imagenet.stanford.edu/internal/car196/cars_train.tgz) and [Test Set](http://imagenet.stanford.edu/internal/car196/cars_test.tgz).  Each set is around 1 GB of data so please **<span style=\"color:red\">DO NOT</span>** include the files when you upload your notebook--**just turn in the .ipynb file**.  Assume the notebooks will be run with the images in folders labeled `cars_train` and `cars_test` like so:\n",
    "\n",
    "```\n",
    ".\n",
    "+--proj6-image-classification.ipynb\n",
    "+--cars_train\n",
    "|  +--00001.jpg\n",
    "|  +--00002.jpg\n",
    "|  +--...\n",
    "+--cars_test\n",
    "|  +--00001.jpg\n",
    "|  +--00002.jpg\n",
    "|  +--...\n",
    "+--test_annos.json\n",
    "+--train_annos.json\n",
    "```\n",
    "\n",
    "The first step in any deep learning method is to make sure you can read in the data.  Since there will be a lot of images for this project, it is possible not all of them will fit into memory.  This is a common problem in deep learning and PyTorch has provided a pattern so as to only have the images you need in memory at a time.  They provide a class called `DataLoader` that acts as an iterable object.  To use `DataLoader`, you will need to implement a subclass of PyTorch's `Dataset` class.  To do you so will need to create a class that inherits from `Dataset` and implements the methods `__getitem__` and `__len__`.  An example is given below and PyTorch provides a [tutorial here](https://pytorch.org/tutorials/beginner/data_loading_tutorial.html):\n",
    "\n",
    "```Python\n",
    "from torch.utils.data import Dataset, DataLoader\n",
    "\n",
    "class MyDataset(Dataset):\n",
    "    def __init__(self, transform=None):\n",
    "        super(MyDataset, self).__init__()\n",
    "        # TODO: implement what happens when someone calls: \n",
    "        # dataset = MyDataset()\n",
    "    \n",
    "    def __getitem__(self, idx):\n",
    "        # TODO: implement what happens when someone calls dataset[idx]\n",
    "        # This typically will return an image and its label\n",
    "        # A good general flow is:\n",
    "        # - Load the appropriate image with PIL and get its label\n",
    "        # - Optionally apply any data augmentation\n",
    "        # - Convert the PIL image to a tensor and apply normalization\n",
    "        # - Return the image and label as a tuple\n",
    "        \n",
    "    def __len__(self):\n",
    "         # TODO: implement what happens when someone calls len(dataset)\n",
    "\n",
    "dataset = MyDataset()\n",
    "loader = DataLoader(dataset)\n",
    "for im, label in loader:\n",
    "#     TODO: Perform operations\n",
    "```\n",
    "\n",
    "We provide you with two files: `test_annos.json` and `train_annos.json`.  These files contain a dictionary mapping image name to the class label the image belongs to.  You can use these files in you Dataset class in order to provide the ground truth labels.  For part A, you will need to implement a dataset class.\n",
    "\n",
    "Note the optional `transform` parameter. This allows you to use different types of preprocessing/data augmentation, without having to rewrite the dataset code. `Torchvision` provides a module, [torchvision.transforms](https://pytorch.org/docs/stable/torchvision/transforms.html), which provides a nice way of applying these techniques. Most of these transforms take PIL images as input, so I suggest you use PIL to load the images in your dataset class.\n",
    "\n",
    "**Note:** Both the images and the labels are 1-indexed. You can load the images however you choosed, but the labels must be 0-indexed to work with Pytorch's loss functions. Make sure to account for this in your Dataset class."
   ]
  },
  {
   "cell_type": "code",
   "execution_count": null,
   "metadata": {},
   "outputs": [],
   "source": [
    "# Contents of `car_dataset.py`:\n",
    "\n",
    "import json\n",
    "from os.path import join\n",
    "from PIL import Image\n",
    "from torch.utils.data import Dataset\n",
    "from torchvision import transforms\n",
    "\n",
    "class CarDataset(Dataset):\n",
    "    def __init__(self, json_file, root_dir, split=\"train\", transform=None):\n",
    "        \"\"\"\n",
    "        Parameters:\n",
    "            json_file:  json file with annotations\n",
    "            root_dir:  directory of images\n",
    "            transform:  transformation to apply to images (optional)\n",
    "                        If provided, it must take a PIL image and\n",
    "                        return a tensor object.\n",
    "        \"\"\"\n",
    "        super().__init__()\n",
    "        \n",
    "        with open(json_file, 'r') as f:\n",
    "            self.labels = json.load(f)\n",
    "        self.root_dir = root_dir\n",
    "        self.split = split\n",
    "        self.transform = transform or transforms.Compose([\n",
    "            transforms.CenterCrop(224),\n",
    "            transforms.transforms.ToTensor(),\n",
    "            transforms.Normalize(mean=[0.485, 0.456, 0.406],std=[0.229, 0.224, 0.225])\n",
    "        ])\n",
    "\n",
    "    def __getitem__(self, index):\n",
    "        image_name = f\"{index+1:05}.jpg\" # Images are 1-indexed in our dataset whereas idx is zero indexed here\n",
    "        path = join(self.root_dir, image_name)\n",
    "        image = Image.open(path).convert(\"RGB\")\n",
    "        image = self.transform(image)\n",
    "        label = self.labels[image_name] - 1 # Labels are 1-indexed, but here we need it zero indexed\n",
    "        \n",
    "        return (image, label)\n",
    "        \n",
    "        # TODO: implement what happens when someone calls dataset[idx]\n",
    "        # This typically will return an image and its label\n",
    "        # A good general flow is:\n",
    "        # - Load the appropriate image with PIL and get its label\n",
    "        # - Optionally apply any data augmentation\n",
    "        # - Convert the PIL image to a tensor and apply normalization\n",
    "        # - Return the image and label as a tuple\n",
    "\n",
    "    def __len__(self):\n",
    "        return len(self.labels)\n",
    "    \n",
    "    def is_train_split(self):\n",
    "        return self.split == \"train\""
   ]
  },
  {
   "cell_type": "code",
   "execution_count": 1,
   "metadata": {},
   "outputs": [],
   "source": [
    "from car_dataset import CarDataset\n",
    "from torch.utils.data import DataLoader\n",
    "from torchvision import transforms\n",
    "\n",
    "trainset = CarDataset(\"train_annos.json\", \"cars_train/\", transform=transforms.Compose([\n",
    "            transforms.RandomResizedCrop(224),\n",
    "            transforms.RandomHorizontalFlip(p=0.5),\n",
    "            transforms.ToTensor(),\n",
    "            transforms.Normalize(mean=[0.485, 0.456, 0.406],std=[0.229, 0.224, 0.225])\n",
    "        ]))\n",
    "trainloader = DataLoader(trainset, batch_size=32, shuffle=True, num_workers=4, pin_memory=True)\n",
    "\"\"\"for i, (image, label) in enumerate(trainloader):\n",
    "    if i == 3:\n",
    "        break\n",
    "    figure()\n",
    "    img = array(transforms.ToPILImage()(image[0]))\n",
    "    print(img.shape)\n",
    "    imshow(img)\"\"\";\n",
    "#  What operations are we supposed to perform?\n",
    "#     TODO: Perform operations"
   ]
  },
  {
   "cell_type": "markdown",
   "metadata": {},
   "source": [
    "# Part B: Neural Network Architecture\n",
    "\n",
    "The main backbone for deep learning is the actual neural network architecture.  For image classification, this will consist of some combination of `Conv2d` layers with activations--usually `ReLU`--with intermittent downsampling--usually done using `MaxPool2d`--followed by a few Linear layers.  The input to the network should be an image with shape `(batch_size, channels, image_height, image_width)`(e.g. a single RGB image with dimensions 224x224 would be `(1, 3, 224, 224)`) and the output a vector of shape `(num_classes,)`, where the largest value's index in the output vector indicates the class label.  \n",
    "\n",
    "While we built our own network in the Learning Lab, for this lab we will used one of Pytorch's pretrained networks. This has the benefit of already having learned features from training on an ImageNet classification problem. To pull in this pretrained network, we use the following line of code:"
   ]
  },
  {
   "cell_type": "code",
   "execution_count": 65,
   "metadata": {},
   "outputs": [
    {
     "name": "stdout",
     "output_type": "stream",
     "text": [
      "['conv1', 'bn1', 'relu', 'maxpool', 'layer1', 'layer2', 'layer3', 'layer4', 'avgpool', 'fc']\n"
     ]
    }
   ],
   "source": [
    "import torchvision\n",
    "\n",
    "model = torchvision.models.resnet18(pretrained=True)\n",
    "\n",
    "print(list(model.__dict__[\"_modules\"].keys()))"
   ]
  },
  {
   "cell_type": "markdown",
   "metadata": {},
   "source": [
    "The ResNet18 is a state of the art network that uses convolution layers, batch normalization, layers of residual blocks, and a fully connected layer at the end. The different layers are listed above. However, because the pretrained network was trained on ImageNet, the last layer is designed to predict 1000 classes, not 196 like in our dataset."
   ]
  },
  {
   "cell_type": "code",
   "execution_count": 66,
   "metadata": {},
   "outputs": [
    {
     "name": "stdout",
     "output_type": "stream",
     "text": [
      "Linear(in_features=512, out_features=1000, bias=True)\n"
     ]
    }
   ],
   "source": [
    "print(model.fc)"
   ]
  },
  {
   "cell_type": "markdown",
   "metadata": {},
   "source": [
    "Our goal is to use the same architecture as the ResNet, but replace the last fully connected layer with a new fully connected layer that goes from 512 input features to 196 output features.\n",
    "\n",
    "PyTorch provides a nice framework for making a neural network architecture.  A network is typically made as a class that inherits from PyTorch's `Module` class and implements the `forward` method.  A network might take the form of the example below. PyTorch also provides a simple Neural Network [tutorial here](https://pytorch.org/tutorials/beginner/deep_learning_60min_blitz.html) -- the Training a Classifier tutorial is especially helpful.\n",
    "```Python\n",
    "import torch.nn as nn \n",
    "\n",
    "class MyNetwork(nn.Module):\n",
    "    def __init__(self):\n",
    "        super(MyNetwork, self).__init__()\n",
    "#         TODO: setup network here\n",
    "\n",
    "    def forward(self, x):\n",
    "#         TODO: perform the forward pass, which happens when someone calls network(x)\n",
    "```\n",
    "\n",
    "Take all the pretrained layers from ResNet18, but then define your own last fully connected layer. Then write the appropriate forward pass function. You can see the code for the resnet implementation in pytorch [here](https://github.com/pytorch/vision/blob/master/torchvision/models/resnet.py) -- find the `ResNet` class and take a look at the `forward_impl` function.\n",
    "\n",
    "**Note:** ResNet was trained with images that are normalized according to the ImageNet color averages. This means you may want to include an appropriate normalization in your Dataset class if you did not already. This can easily be done with Pytorch's transform objects.\n",
    "\n",
    "```Python\n",
    "normalize = transforms.Normalize(mean=[0.485, 0.456, 0.406],std=[0.229, 0.224, 0.225])\n",
    "```"
   ]
  },
  {
   "cell_type": "code",
   "execution_count": null,
   "metadata": {},
   "outputs": [],
   "source": [
    "# Contents of `car_network.py`:\n",
    "\n",
    "import torch\n",
    "import torch.nn as nn\n",
    "\n",
    "class CarNetwork(nn.Module):\n",
    "    def __init__(self, resnet_model):\n",
    "        super().__init__()\n",
    "        \n",
    "        # Copy over all ResNet layers except the fully connected layer\n",
    "        self.conv1 = resnet_model.conv1\n",
    "        self.bn1 = resnet_model.bn1\n",
    "        self.relu = resnet_model.relu\n",
    "        self.maxpool = resnet_model.maxpool\n",
    "        self.layer1 = resnet_model.layer1\n",
    "        self.layer2 = resnet_model.layer2\n",
    "        self.layer3 = resnet_model.layer3\n",
    "        self.layer4 = resnet_model.layer4\n",
    "        self.avgpool = resnet_model.avgpool\n",
    "        self.fc = nn.Linear(in_features=512, out_features=196, bias=True)\n",
    "        \n",
    "    def forward(self, x):\n",
    "        x = self.conv1(x)\n",
    "        x = self.bn1(x)\n",
    "        x = self.relu(x)\n",
    "        x = self.maxpool(x)\n",
    "        x = self.layer1(x)\n",
    "        x = self.layer2(x)\n",
    "        x = self.layer3(x)\n",
    "        x = self.layer4(x)\n",
    "        x = self.avgpool(x)\n",
    "        x = torch.flatten(x, 1)\n",
    "        x = self.fc(x)\n",
    "        \n",
    "        return x\n",
    "#         TODO: perform the forward pass, which happens when someone calls network(x)\n"
   ]
  },
  {
   "cell_type": "code",
   "execution_count": 67,
   "metadata": {},
   "outputs": [
    {
     "name": "stdout",
     "output_type": "stream",
     "text": [
      "odict_keys(['conv1', 'bn1', 'relu', 'maxpool', 'layer1', 'layer2', 'layer3', 'layer4', 'avgpool', 'fc'])\n"
     ]
    }
   ],
   "source": [
    "from car_network import CarNetwork\n",
    "\n",
    "net = CarNetwork(model)\n",
    "print(net._modules.keys())"
   ]
  },
  {
   "cell_type": "code",
   "execution_count": 68,
   "metadata": {},
   "outputs": [],
   "source": [
    "# Save network:\n",
    "torch.save(net, \"car_net\")"
   ]
  },
  {
   "cell_type": "code",
   "execution_count": 69,
   "metadata": {},
   "outputs": [],
   "source": [
    "import pickle\n",
    "\n",
    "# Save empty loss list:\n",
    "loss_list = []\n",
    "with open(\"loss\", \"wb\") as f:\n",
    "    pickle.dump(loss_list, f)"
   ]
  },
  {
   "cell_type": "markdown",
   "metadata": {},
   "source": [
    "# Part C: Training\n",
    "\n",
    "Now that you can access your data and you have a network architecture set up, its time to put things together and start training.  Training requires two additional major components: 1) the loss function and 2) the optimizer.  The loss function is a comparison between your results and the ground truth data.  The optimizer is what takes the results of the loss function and backpropagates the error to the network weights in an attempt to decrease the loss.  The most common loss function used for classification is [Cross Entropy](https://pytorch.org/docs/stable/nn.html#crossentropyloss) while the most commonly used optimizer is [Adam](https://pytorch.org/docs/stable/optim.html#torch.optim.Adam).  \n",
    "\n",
    "A basic training step might take the following form:\n",
    "```Python\n",
    "optimizer.zero_grad()\n",
    "outs = model(inputs)\n",
    "loss = loss_func(outs, labels)  # loss_func would be an instance of a torch.nn.CrossEntropyLoss class\n",
    "loss.backward()\n",
    "optimizer.step()  # optimizer would be an instance of the torch.optim.Adam class\n",
    "```\n",
    "\n",
    "For deliverables on this section, please display a plot of the value of the loss over time.  If things are working, the loss should be decreasing.\n",
    "\n",
    "**Note: This step could take several hours so you will want to look into being able to save your model to a file and load it up again.** See [here](https://pytorch.org/docs/stable/notes/serialization.html).\n",
    "\n",
    "Also, if you are running on Google Colab, your notebook may eventually get disconnected -- Colab limits the amount of time you can spend using their service at one time. You may want to save intermediate results to your Google Drive: see [here](https://medium.com/@ml_kid/how-to-save-our-model-to-google-drive-and-reuse-it-2c1028058cb2)."
   ]
  },
  {
   "cell_type": "code",
   "execution_count": 70,
   "metadata": {},
   "outputs": [],
   "source": [
    "import pickle, torch\n",
    "\n",
    "# Load network:\n",
    "net = torch.load(\"car_net\")\n",
    "\n",
    "# Load loss:\n",
    "with open(\"loss\", 'rb') as f:\n",
    "    loss_list = pickle.load(f)"
   ]
  },
  {
   "cell_type": "code",
   "execution_count": 71,
   "metadata": {},
   "outputs": [
    {
     "name": "stdout",
     "output_type": "stream",
     "text": [
      "GeForce GTX 1050 Ti\n"
     ]
    }
   ],
   "source": [
    "from torch.optim import Adam\n",
    "from torch.nn import CrossEntropyLoss\n",
    "import torch.utils\n",
    "\n",
    "print(torch.cuda.get_device_name(0))\n",
    "device = torch.device(\"cuda:0\" if torch.cuda.is_available() else \"cpu\")\n",
    "net = net.to(device)\n",
    "optimizer = Adam(net.parameters(), lr=0.00003)\n",
    "loss_func = CrossEntropyLoss()"
   ]
  },
  {
   "cell_type": "code",
   "execution_count": 69,
   "metadata": {},
   "outputs": [
    {
     "name": "stdout",
     "output_type": "stream",
     "text": [
      "[1,    50] loss: 0.333\n",
      "[1,   100] loss: 0.364\n",
      "[1,   150] loss: 0.358\n"
     ]
    },
    {
     "ename": "KeyboardInterrupt",
     "evalue": "",
     "output_type": "error",
     "traceback": [
      "\u001b[1;31m---------------------------------------------------------------------------\u001b[0m",
      "\u001b[1;31mKeyboardInterrupt\u001b[0m                         Traceback (most recent call last)",
      "\u001b[1;32m<ipython-input-69-3fff4eefe119>\u001b[0m in \u001b[0;36m<module>\u001b[1;34m\u001b[0m\n\u001b[0;32m     17\u001b[0m \u001b[1;33m\u001b[0m\u001b[0m\n\u001b[0;32m     18\u001b[0m         \u001b[1;31m# print statistics\u001b[0m\u001b[1;33m\u001b[0m\u001b[1;33m\u001b[0m\u001b[1;33m\u001b[0m\u001b[0m\n\u001b[1;32m---> 19\u001b[1;33m         \u001b[0mloss_item\u001b[0m \u001b[1;33m=\u001b[0m \u001b[0mloss\u001b[0m\u001b[1;33m.\u001b[0m\u001b[0mitem\u001b[0m\u001b[1;33m(\u001b[0m\u001b[1;33m)\u001b[0m\u001b[1;33m\u001b[0m\u001b[1;33m\u001b[0m\u001b[0m\n\u001b[0m\u001b[0;32m     20\u001b[0m         \u001b[0mrunning_loss\u001b[0m \u001b[1;33m+=\u001b[0m \u001b[0mloss_item\u001b[0m\u001b[1;33m\u001b[0m\u001b[1;33m\u001b[0m\u001b[0m\n\u001b[0;32m     21\u001b[0m         \u001b[0mloss_list\u001b[0m\u001b[1;33m.\u001b[0m\u001b[0mappend\u001b[0m\u001b[1;33m(\u001b[0m\u001b[0mloss_item\u001b[0m\u001b[1;33m)\u001b[0m\u001b[1;33m\u001b[0m\u001b[1;33m\u001b[0m\u001b[0m\n",
      "\u001b[1;31mKeyboardInterrupt\u001b[0m: "
     ]
    }
   ],
   "source": [
    "net.train()\n",
    "\n",
    "for epoch in range(8):\n",
    "    running_loss = 0.0\n",
    "    for i, data in enumerate(trainloader, 0):\n",
    "        inputs, labels = data\n",
    "        inputs, labels = inputs.to(device, non_blocking=True), labels.to(device, non_blocking=True)\n",
    "        \n",
    "        # zero the parameter gradients (otherwise they will accumulate)\n",
    "        optimizer.zero_grad()\n",
    "\n",
    "        # forward + backward + optimize\n",
    "        outputs = net(inputs) # forward\n",
    "        loss = loss_func(outputs, labels) # calculate loss\n",
    "        loss.backward() # calculate the gradient (back propagation)\n",
    "        optimizer.step() # update the weights\n",
    "\n",
    "        # print statistics\n",
    "        loss_item = loss.item()\n",
    "        running_loss += loss_item\n",
    "        loss_list.append(loss_item)\n",
    "        if i%50 == 49:\n",
    "            print('[%d, %5d] loss: %.3f' %\n",
    "                  (epoch + 1, i + 1, running_loss / 50))\n",
    "            running_loss = 0.0\n",
    "    torch.save(net, \"car_net\")\n",
    "    with open(\"loss\", 'wb') as f:\n",
    "        pickle.dump(loss_list, f)\n",
    "    print(\"Epoch {} complete!\".format(epoch + 1))"
   ]
  },
  {
   "cell_type": "code",
   "execution_count": 73,
   "metadata": {},
   "outputs": [
    {
     "data": {
      "text/plain": [
       "[<matplotlib.lines.Line2D at 0x15a7a5b7eb8>]"
      ]
     },
     "execution_count": 73,
     "metadata": {},
     "output_type": "execute_result"
    },
    {
     "data": {
      "image/png": "[encoded data removed]",
      "text/plain": [
       "<Figure size 432x288 with 1 Axes>"
      ]
     },
     "metadata": {
      "needs_background": "light"
     },
     "output_type": "display_data"
    },
    {
     "data": {
      "image/png": "[encoded data removed]",
      "text/plain": [
       "<Figure size 432x288 with 1 Axes>"
      ]
     },
     "metadata": {
      "needs_background": "light"
     },
     "output_type": "display_data"
    }
   ],
   "source": [
    "from matplotlib.pyplot import plot\n",
    "from scipy.signal import savgol_filter\n",
    "plot(range(len(loss_list)), loss_list)\n",
    "figure()\n",
    "smoothed = savgol_filter(loss_list, 201, 2)\n",
    "plot(range(len(smoothed)), smoothed)"
   ]
  },
  {
   "cell_type": "markdown",
   "metadata": {},
   "source": [
    "# Part D: Testing\n",
    "\n",
    "One of the goals of deep learning is to make a model that generalizes to data it has never seen (e.g. new images of cars).  For this part, you will test your generalizability by running the model on a dataset it has not yet seen during training.  To do so, you will need to make sure you are not calculating any gradients by using `torch.no_grad` in a with statement. You will also need to put the network into evaluation mode:\n",
    "```Python\n",
    "model.eval()\n",
    "with torch.no_grad():\n",
    "    # enter testing code here\n",
    "```\n",
    "\n",
    "To put the network back into training mode, call `model.train()`.\n",
    "\n",
    "You will also need to compare your actual predictions with the ground truth, value for value.  The output of your network, however, will be a vector of length 196 (the number of possible classes for the cars dataset) with the largest value representing the guessed class.  You will need to extract the predicted class number and compare it with the ground truth class number for all images in the test dataset and calculate the overall accuracy.  **Print out the overall accuacy of your model**.\n",
    "\n",
    "Additionally, **you will need to generate a confusion matrix of the 196 categories**. A confusion matrix shows how often a specific category is guessed as each other category. For example, the 11th row and 34th column in the matrix should tell you how many times category 11 images were guessed to be category 34 images. Thus, a perfect predictor on the test set would have nonzero values only along the diagnol. Once you generated the confusion matrix, you may simply plot it as a grayscale image (with interpolation turned off).\n",
    "\n",
    "While high test accuracy is not the only goal in this lab, most students are able to get above 50% in their testing accuracy. If you are unable to reach this level of accuracy, it may indicate an error in your code."
   ]
  },
  {
   "cell_type": "code",
   "execution_count": 61,
   "metadata": {},
   "outputs": [
    {
     "name": "stdout",
     "output_type": "stream",
     "text": [
      "1024\n",
      "2048\n",
      "3072\n",
      "4096\n",
      "5120\n",
      "6144\n",
      "7168\n",
      "8041\n",
      "Accuracy of the network on the 8041 test images: 69.93%\n"
     ]
    },
    {
     "data": {
      "text/plain": [
       "<matplotlib.image.AxesImage at 0x15a7a237550>"
      ]
     },
     "execution_count": 61,
     "metadata": {},
     "output_type": "execute_result"
    },
    {
     "data": {
      "image/png": "[encoded data removed]",
      "text/plain": [
       "<Figure size 432x288 with 1 Axes>"
      ]
     },
     "metadata": {
      "needs_background": "light"
     },
     "output_type": "display_data"
    }
   ],
   "source": [
    "from car_dataset import CarDataset\n",
    "from torch.utils.data import DataLoader\n",
    "import torch\n",
    "\n",
    "torch.cuda.empty_cache()\n",
    "\n",
    "device = torch.device(\"cuda:0\" if torch.cuda.is_available() else \"cpu\")\n",
    "\n",
    "testset = CarDataset(\"test_annos.json\", \"cars_test/\", split=\"test\")\n",
    "testloader = DataLoader(testset, batch_size=128, num_workers=4)\n",
    "\n",
    "model = torch.load(\"car_net\").to(device)\n",
    "model.eval()\n",
    "\n",
    "correct = 0\n",
    "total = 0\n",
    "confusion = zeros((196, 196))\n",
    "with torch.no_grad():\n",
    "    for data in testloader:\n",
    "        images, labels = data\n",
    "        images, labels = images.to(device), labels.to(device)\n",
    "        outputs = model(images)\n",
    "        _, predicted = torch.max(outputs.data, 1)\n",
    "        confusion[labels.to(\"cpu\"), predicted.to(\"cpu\")] += 1\n",
    "        total += labels.size(0)\n",
    "        if total % 1024 == 0:\n",
    "            print(total)\n",
    "        correct += (predicted == labels).sum().item()\n",
    "print(total)\n",
    "print(\"Accuracy of the network on the {} test images: {:.2f}%\".format(len(testset), correct / total * 100))\n",
    "imshow(confusion, interpolation=\"none\")"
   ]
  },
  {
   "cell_type": "markdown",
   "metadata": {},
   "source": [
    "## Grading\n",
    "Points for this assigment will be assigned as follows (100 points total):\n",
    "* [20 pts] Making a Dataset class\n",
    "* [10 pts] Setting up you architecture\n",
    "* [20 pts] Training your model and plotting training loss\n",
    "* [30 pts] Displaying the overall accuracy of your model and a confusion matrix\n",
    "\n",
    "The last 20 points are earned through completing a subset of the following explorations:\n",
    "* [10 pts] Enhance your dataloader to include reflection data augmentation (i.e. double the size of your training data by taking the mirror image across the y-axis). **DO NOT** do reflection augmentation across the x-axis (we don't care to detect cars when they are upside down!). Describe what effects the augmentation had on testing accuracy.\n",
    "* [10 pts] Enhance your dataloader to include random resized crop data augmentation (i.e. increase the size of your training data by taking a subsection of your image each time). Make sure the crop is not too small, otherwise you might miss parts of the car. Describe what effects the augmentation had on testing accuracy.\n",
    "* [10 pts] Analyze the effect of learning rates on the accuracy of the network. Describe what you found and give supporting plots.\n",
    "* [10 pts] Analyze the effect of changing the number of training epochs on the accuracy of the network. Describe what you found and give supporting plots.\n",
    "* [10 pts] Analyze the effect of varying the batch_size on the accuracy of the network. Describe what you found and give supporting plots. \n",
    "* [10 pts] Analyze the effect of different optimizers on the accuracy of the network. Describe what you found and give supporting plots. A list of optimizers in Pytorch can be found [here](https://pytorch.org/docs/stable/optim.html).\n",
    "* [10 pts] Analyze the effect of different pretrained networks on the accuracy of the network. Describe what you found and give supporting plots. A list of pretrained networks in Pytorch can be found [here](https://pytorch.org/docs/stable/torchvision/models.html).\n",
    "\n",
    "You may earn up to 10 points extra credit for additional explorations you complete.\n",
    "\n",
    "An additional 15 points of extra credit will be given to the individual with the highest test accuracy."
   ]
  },
  {
   "cell_type": "markdown",
   "metadata": {},
   "source": [
    "\n",
    "## Write-up:\n",
    "Provide an explanation for the following items:\n",
    "* Which part of this lab did you find most difficult?\n",
    "* What insight did you gain from analyzing the confusion matrix?\n",
    "* What insight did you gain from your explorations?\n",
    "* What improvements would you recommend for this lab?"
   ]
  },
  {
   "cell_type": "markdown",
   "metadata": {},
   "source": [
    "## My Write-up\n",
    "* The most difficult part of the lab was getting introduced to PyTorch.  The documentation was very helpful, but I had never (except briefly during the learning lab) used something like PyTorch before.\n",
    "* The confusion matrix wasn't as helpful as the accuracy.  It did show that some classes had more images than others, though, which could affect training to be biased towards those classes.  The largest confusion was (I think) with classes with label 87 being mislabeled as class 165, although these two cars do not look similar at all.  (Class 87 is a truck while class 165 is a Mercedes car.)\n",
    "* I tried out a few things to improve the accuracy.\n",
    "  1. Changing the batch size.  This helped marginally.  At first I had a batch size of 128, which trained fairly fast.  (Each epoch took about 40 seconds.)  Switching to a smaller batch size made it run a bit slower (each epoch took about a minute), but I had less overfitting as well.\n",
    "  2. Changing the learning rate.  I tried out a number of different learning rates to see what worked best.  Having high learning rates would lead to quick initial learning, but then failing to learn anymore.  A lower learning rate took a while to learn.  I found that starting out wiht a medium learning rate (0.001) for a few epochs and then decreasing it later on worked fairly well.\n",
    "  3. Data augmentation.  By far, this helped the most.  Before data augmentation, I was getting a ton of overfitting (99.86% accuracy on the training set and 41% accuracy on the test set).  After augmenting my dataset by taking random resized crops and horizontal reflections (reflections over the y-axis), I was able to get significantly better results (85% accuracy on the training set and 70% accuracy on the test set).\n",
    "* I thought this lab was great!  I can't think of how I might improve it."
   ]
  }
 ],
 "metadata": {
  "kernelspec": {
   "display_name": "Python 3",
   "language": "python",
   "name": "python3"
  },
  "language_info": {
   "codemirror_mode": {
    "name": "ipython",
    "version": 3
   },
   "file_extension": ".py",
   "mimetype": "text/x-python",
   "name": "python",
   "nbconvert_exporter": "python",
   "pygments_lexer": "ipython3",
   "version": "3.6.10"
  }
 },
 "nbformat": 4,
 "nbformat_minor": 4
}
