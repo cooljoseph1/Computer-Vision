{
 "cells": [
  {
   "cell_type": "markdown",
   "metadata": {},
   "source": [
    "# Project 3: Panoramic Mosaicing\n",
    "\n",
    "### What to Submit\n",
    "Submit this iPython Notebook--containing all your code for the programming exercises below--on [learning suite](https://learningsuite.byu.edu/).\n",
    "\n",
    "Your notebook file should produce the relevant plots and also provide a short write-up with answers to the questions below.\n",
    "\n",
    "Please also fill in here the time that each part took you:\n",
    "* 1. Part A: <span style=\"color:red;\">FILL IN TIME</span>\n",
    "* 2. Part B: <span style=\"color:red;\">FILL IN TIME</span>\n",
    "* 3. Part C: <span style=\"color:red;\">FILL IN TIME</span>\n",
    "* 4. Part D: <span style=\"color:red;\">FILL IN TIME</span>\n",
    "* 5. Write-up: <span style=\"color:red;\">FILL IN TIME</span>\n",
    "\n",
    "### Programming Exercise\n",
    "\n",
    "For this assignment, you will be writing a program that creates a panoramic mosaic from 2 or more images.  In general this technique should be applicable to any number of photographs.  The approach described below will work well for collective fields of up to 90 or even 120&deg;, but won't produce ideal results for large fields of view approaching or surpassing 180&deg;.  For large fields of view cylindrical or spherical projection is required.\n",
    "\n",
    "When we construct a panorama, we assume that all of the photographs were taken from the exact same location and that the images are related by pure rotation (no translation of the camera).  The easiest way to create the panorama is to project all of the photos onto a plane.  One photo must be selected (either manually or by your program) to be the base photo.  The other photos are aligned to this base photo by identifying a homography (a planar warp specified by 4 pairs of source/destination points) relating each pair.  Each of the other images is appropriately warped and composited onto the plane (the base image doesn’t need to be warped).\n",
    "\n",
    "In describing what you need to do, there will be a running example using the three photos below:\n",
    "\n",
    "\n",
    "<div style=\"width:100%;text-align:center;\"><img src=\"Images/example1.png\" width=100%></div>\n",
    "        "
   ]
  },
  {
   "cell_type": "markdown",
   "metadata": {},
   "source": [
    "### Part A: Find Interest Points/Descriptors in each Input Image\n",
    "We will be using OpenCV for this project, which you should already have installed.  However, you may need to install the contrib version--which comes seperate due to the SIFT algorithm being patented--by running the command:`pip install opencv-contrib-python`.  A good tutorial on how to use SIFT features in OpenCV is found [here](https://docs.opencv.org/trunk/da/df5/tutorial_py_sift_intro.html).  The first step to registering or aligning two images is to identify locations in each image that are distinctive or stand out.  The `sift.detectAndCompute()` routine produces both these interest points and their corresponding SIFT descriptors.  The first step of producing a panorama is to load all of the relevant images and find the interest points and their descriptors.\n",
    "\n",
    "See the red circles on each image below indicating the sift keypoints that were found (note that we downsampled the images to 600 x 600 pixels before extracting SIFT).  We scaled the circles according to the scale at which each keypoint was detected at.\n",
    "\n",
    "<div style=\"width:100%;text-align:center;\"><img src=\"Images/example2.png\" width=100%></div>"
   ]
  },
  {
   "cell_type": "markdown",
   "metadata": {},
   "source": [
    "### Part B: Matching Features\n",
    "\n",
    "Next, given the features present in each image, you need to match the features so as to determine corresponding points between adjacent/overlapping images.  [This page](https://docs.opencv.org/trunk/dc/dc3/tutorial_py_matcher.html) provides details to do feature matching using `cv2.BFMatcher()`, analogous to the approach proposed by David Lowe in his original implementation.  Be aware that the resulting match is one directional.  You want to find putative pairs--pairs of points which are each other’s best match (e.g. there might be 3 points in image I1 for which a point q in image I2 are the best match, only one of these could be the best matching point p in I1 for that point q in I2).  In this part you need to compute the set of putative matches between each pair of images.\n",
    "\n",
    "Look at the pairs of images and the lines showing the estimated matches (putative matches are green lines, one way matches are cyan or blue).\n",
    "\n",
    "<div style=\"width:100%;text-align:center;\"><img src=\"Images/example3.png\" width=100%></div>"
   ]
  },
  {
   "cell_type": "markdown",
   "metadata": {},
   "source": [
    "### Part C: Estimating Pairwise Homographies using RANSAC\n",
    "\n",
    "Use the RANSAC algorithm ([Szeliski](http://szeliski.org/Book/), Ch 6.1.4), estimate the homography between each pair of images.  You will need to decide whether you’re going to manually specify the base image or determine in programmatically.  Along with identifying the base image, you need to figure out the order in which you will composite the other images to the base.\n",
    "\n",
    "You will need 4 pairs of points to estimate a homography.  Begin by randomly sampling sets of 4 pairs and estimating the corresponding homography for each set.  Instead of the two warping equations that we used earlier in the semester, it is recommended that you use a 3x3 homography (8 unknowns).  You are trying to estimate the homography\n",
    "\n",
    "$$\n",
    "\\begin{bmatrix}a & b & c\\\\d & e & f\\\\g & h & 1\\end{bmatrix}\n",
    "$$\n",
    "\n",
    "such that a point $(x_s,y_s)$ in the source image is tranformed to a point $(x_t,y_t)$ in the target image as follows\n",
    "\n",
    "$$\n",
    "\\begin{bmatrix}x_t\\\\y_t\\\\1\\end{bmatrix} = \\begin{bmatrix}a & b & c\\\\d & e & f\\\\g & h & 1\\end{bmatrix}\\begin{bmatrix}x_s\\\\y_s\\\\1\\end{bmatrix}\n",
    "$$\n",
    "\n",
    "Each pair of points will produce three linear equations in (a subset of) the 8 unknowns.  For example, $x_t = x_sa + y_sb + c$.  Four pairs of points (assuming no degeneracies) are sufficient to estimate the homography.  A more robust solution relying on more than four pairs can be obtained using least squares on the overconstrained linear system (solving $Ax = b$, where $x$ is a column vector with the 8 unknowns and you populate rows of $A$ and an entry of $b$ with the linear equations just described).  Note that this solution will **not** always be better.\n",
    "\n",
    "Because of the homogeneous coordinates, the three equations can be reduced to two equations as follows:\n",
    "\n",
    "$$\n",
    "x_t = \\frac{ax_s+by_s+c}{gx_s+hy_s+1}, \\hspace{5mm}\n",
    "y_t = \\frac{dx_s+ey_s+f}{gx_s+hy_s+1}\n",
    "$$\n",
    "\n",
    "For more details, see the [image alignment and stitching slides](https://faculty.cs.byu.edu/~farrell/courses/CS450/slides/alignment_stitching.pdf#page=18).\n",
    "\n",
    "Below you will find a visualization of the RANSAC estimated homographies.  Images 1, 2, and 3 have dots that are red, green and blue respectively (sorry the dots are a little small), representing the putative pairs.  You can see where the homographies line up very well and in a few places (the middle vertically) they line up slightly less well.\n",
    "\n",
    "<div style=\"width:100%;text-align:center;\"><img src=\"Images/example4.png\" width=100%></div>"
   ]
  },
  {
   "cell_type": "markdown",
   "metadata": {},
   "source": [
    "### Part D: Creating the Mosaic\n",
    "\n",
    "Begin with the base image and warp the remaining images (using the estimated homographies) to composite them onto the base image.\n",
    "\n",
    "For the ongoing campus example, here are the resulting warped images composited.\n",
    "\n",
    "<div style=\"width:100%;text-align:center;\"><img src=\"Images/example5.png\" width=75%></div>\n",
    "\n",
    "And, then with a very simple (but not ideal) compositing operation.\n",
    "\n",
    "<div style=\"width:100%;text-align:center;\"><img src=\"Images/example6.png\" width=75%></div>"
   ]
  },
  {
   "cell_type": "markdown",
   "metadata": {},
   "source": [
    "### Part A: Find Interest Points/Descriptors"
   ]
  },
  {
   "cell_type": "code",
   "execution_count": null,
   "metadata": {
    "collapsed": true
   },
   "outputs": [],
   "source": [
    "# Place Code Here\n",
    "# Show an example output here"
   ]
  },
  {
   "cell_type": "markdown",
   "metadata": {},
   "source": [
    "### Part B: Matching Features"
   ]
  },
  {
   "cell_type": "code",
   "execution_count": null,
   "metadata": {},
   "outputs": [],
   "source": [
    "# Place Code Here\n",
    "# Show an example output here"
   ]
  },
  {
   "cell_type": "markdown",
   "metadata": {},
   "source": [
    "### Part C: Estimating Pairwise Homographies using RANSAC"
   ]
  },
  {
   "cell_type": "code",
   "execution_count": null,
   "metadata": {},
   "outputs": [],
   "source": [
    "# Place Code Here\n",
    "# Show an example output here"
   ]
  },
  {
   "cell_type": "markdown",
   "metadata": {},
   "source": [
    "### Part D: Creating the Mosaic"
   ]
  },
  {
   "cell_type": "code",
   "execution_count": null,
   "metadata": {},
   "outputs": [],
   "source": [
    "# Place Code Here\n",
    "# Show an example output here"
   ]
  },
  {
   "cell_type": "markdown",
   "metadata": {},
   "source": [
    "### Final Results and Improvements"
   ]
  },
  {
   "cell_type": "code",
   "execution_count": null,
   "metadata": {
    "collapsed": true
   },
   "outputs": [],
   "source": [
    "# Output results for additional images here\n",
    "# Feel free to add as many cells as you wish"
   ]
  },
  {
   "cell_type": "markdown",
   "metadata": {},
   "source": [
    "### Grading\n",
    "\n",
    "To get 100% you need to (i) implement RANSAC and additionally (ii) either implement the feature matching yourself (instead of using built-in matching functions such as `cv2.BFMatcher()`), or incorporate one of the following improvements:\n",
    "* A nice clean compositing/blending approach so that edges/artifacts are not noticeable.\n",
    "* Automatic selection of which image should be the base\n",
    "* Handling more than 3 photos\n",
    "* Another enhancement approved by Dr. Farrell\n",
    "\n",
    "Points for this assigment will be assigned as follows (100 points total):\n",
    "* [10 pts] Extracting features from both images (interest points and descriptors).\n",
    "* [20 pts] Four-point algorithm to estimate homographies.\n",
    "* [30 pts] RANSAC implemented (partial points given for poor alignments).\n",
    "* [20 pts] Images warped appropriately (aligning on top of each other).\n",
    "* [10 pts] Clean final image (extents of merged image should fit the enscribed rectangle).\n",
    "* [10 pts] Implementing matching or other improvement (see above). Bonus points may be given for additional enhancements.\n",
    "\n",
    "## Write-up:\n",
    "Provide an explanation for the following items:\n",
    "* In what scenarios was it difficult to get good alignments between images?\n",
    "* If you have any suggestions for how to improve this project in the future, list them here."
   ]
  },
  {
   "cell_type": "code",
   "execution_count": null,
   "metadata": {
    "collapsed": true
   },
   "outputs": [],
   "source": []
  }
 ],
 "metadata": {
  "kernelspec": {
   "display_name": "Python 3",
   "language": "python",
   "name": "python3"
  },
  "language_info": {
   "codemirror_mode": {
    "name": "ipython",
    "version": 3
   },
   "file_extension": ".py",
   "mimetype": "text/x-python",
   "name": "python",
   "nbconvert_exporter": "python",
   "pygments_lexer": "ipython3",
   "version": "3.6.2"
  }
 },
 "nbformat": 4,
 "nbformat_minor": 2
}
