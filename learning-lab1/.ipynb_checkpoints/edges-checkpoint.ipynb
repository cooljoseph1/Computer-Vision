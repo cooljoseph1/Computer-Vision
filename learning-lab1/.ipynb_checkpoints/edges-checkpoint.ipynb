{
 "cells": [
  {
   "cell_type": "code",
   "execution_count": null,
   "metadata": {},
   "outputs": [],
   "source": [
    "%pylab inline\n",
    "from skimage.filters import sobel_h, sobel_v, gaussian, laplace\n",
    "rcParams['figure.figsize'] = (6, 6)"
   ]
  },
  {
   "cell_type": "code",
   "execution_count": null,
   "metadata": {},
   "outputs": [],
   "source": [
    "box = zeros((200,200))\n",
    "box[75:125, 75:125] = 1\n",
    "imshow(box)"
   ]
  },
  {
   "cell_type": "code",
   "execution_count": null,
   "metadata": {},
   "outputs": [],
   "source": [
    "gy = sobel_h(box)\n",
    "gx = sobel_v(box)\n",
    "\n",
    "fig, ax = subplots(1,2)\n",
    "ax[0].imshow(gy)\n",
    "ax[1].imshow(gx)"
   ]
  },
  {
   "cell_type": "code",
   "execution_count": null,
   "metadata": {},
   "outputs": [],
   "source": [
    "m = sqrt(gx**2 + gy**2)\n",
    "o = arctan2(gy, gx)\n",
    "\n",
    "fig, ax = subplots(1,2)\n",
    "ax[0].imshow(m)\n",
    "ax[1].imshow(o)"
   ]
  },
  {
   "cell_type": "code",
   "execution_count": null,
   "metadata": {},
   "outputs": [],
   "source": [
    "circle = zeros((200,200))\n",
    "\n",
    "r = 50\n",
    "y, x = mgrid[:200, :200]\n",
    "circle = ((x-100)**2 + (y-100)**2 <= r**2).astype(float)\n",
    "circle = gaussian(circle, 1)\n",
    "imshow(circle)"
   ]
  },
  {
   "cell_type": "code",
   "execution_count": null,
   "metadata": {},
   "outputs": [],
   "source": [
    "gx = sobel_v(circle)\n",
    "gy = sobel_h(circle)\n",
    "m = sqrt(gx**2 + gy**2)\n",
    "o = arctan2(gy, gx)\n",
    "ot = o.copy()\n",
    "ot[m < 0.1*m.max()] = 0\n",
    "\n",
    "fig, ax = subplots(2, 2, figsize=(8, 8))\n",
    "ax[0,0].imshow(gy)\n",
    "ax[0,1].imshow(gx)\n",
    "ax[1,0].imshow(m)\n",
    "ax[1,1].imshow(o)"
   ]
  },
  {
   "cell_type": "code",
   "execution_count": null,
   "metadata": {},
   "outputs": [],
   "source": [
    "lap = laplace(circle)\n",
    "imshow(lap)"
   ]
  }
 ],
 "metadata": {
  "kernelspec": {
   "display_name": "Python 3",
   "language": "python",
   "name": "python3"
  },
  "language_info": {
   "codemirror_mode": {
    "name": "ipython",
    "version": 3
   },
   "file_extension": ".py",
   "mimetype": "text/x-python",
   "name": "python",
   "nbconvert_exporter": "python",
   "pygments_lexer": "ipython3",
   "version": "3.7.0"
  }
 },
 "nbformat": 4,
 "nbformat_minor": 4
}